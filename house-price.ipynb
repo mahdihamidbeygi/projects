{
 "cells": [
  {
   "cell_type": "code",
   "execution_count": 1,
   "id": "33bfc39a",
   "metadata": {
    "_cell_guid": "b1076dfc-b9ad-4769-8c92-a6c4dae69d19",
    "_uuid": "8f2839f25d086af736a60e9eeb907d3b93b6e0e5",
    "execution": {
     "iopub.execute_input": "2022-11-14T03:40:29.737781Z",
     "iopub.status.busy": "2022-11-14T03:40:29.736734Z",
     "iopub.status.idle": "2022-11-14T03:40:30.890045Z",
     "shell.execute_reply": "2022-11-14T03:40:30.888910Z"
    },
    "papermill": {
     "duration": 1.167591,
     "end_time": "2022-11-14T03:40:30.892782",
     "exception": false,
     "start_time": "2022-11-14T03:40:29.725191",
     "status": "completed"
    },
    "tags": []
   },
   "outputs": [
    {
     "name": "stdout",
     "output_type": "stream",
     "text": [
      "/kaggle/input/house-prices-advanced-regression-techniques/sample_submission.csv\n",
      "/kaggle/input/house-prices-advanced-regression-techniques/data_description.txt\n",
      "/kaggle/input/house-prices-advanced-regression-techniques/train.csv\n",
      "/kaggle/input/house-prices-advanced-regression-techniques/test.csv\n"
     ]
    }
   ],
   "source": [
    "# This Python 3 environment comes with many helpful analytics libraries installed\n",
    "# It is defined by the kaggle/python Docker image: https://github.com/kaggle/docker-python\n",
    "# For example, here's several helpful packages to load\n",
    "import numpy as np # linear algebra\n",
    "import pandas as pd # data processing, CSV file I/O (e.g. pd.read_csv)\n",
    "import matplotlib.pyplot as  plt\n",
    "import seaborn as sns\n",
    "from scipy import stats\n",
    "from scipy.stats import norm\n",
    "\n",
    "import warnings\n",
    "warnings.filterwarnings('ignore')\n",
    "%matplotlib inline\n",
    "# Input data files are available in the read-only \"../input/\" directory\n",
    "# For example, running this (by clicking run or pressing Shift+Enter) will list all files under the input directory\n",
    "\n",
    "import os\n",
    "for dirname, _, filenames in os.walk('/kaggle/input'):\n",
    "    for filename in filenames:\n",
    "        print(os.path.join(dirname, filename))\n",
    "\n",
    "# You can write up to 20GB to the current directory (/kaggle/working/) that gets preserved as output when you create a version using \"Save & Run All\" \n",
    "# You can also write temporary files to /kaggle/temp/, but they won't be saved outside of the current session"
   ]
  },
  {
   "cell_type": "markdown",
   "id": "de7187c5",
   "metadata": {
    "papermill": {
     "duration": 0.007484,
     "end_time": "2022-11-14T03:40:30.909768",
     "exception": false,
     "start_time": "2022-11-14T03:40:30.902284",
     "status": "completed"
    },
    "tags": []
   },
   "source": [
    "**LOADING DATA**"
   ]
  },
  {
   "cell_type": "code",
   "execution_count": 2,
   "id": "2637444e",
   "metadata": {
    "execution": {
     "iopub.execute_input": "2022-11-14T03:40:30.927585Z",
     "iopub.status.busy": "2022-11-14T03:40:30.926763Z",
     "iopub.status.idle": "2022-11-14T03:40:30.973502Z",
     "shell.execute_reply": "2022-11-14T03:40:30.972118Z"
    },
    "papermill": {
     "duration": 0.058662,
     "end_time": "2022-11-14T03:40:30.976308",
     "exception": false,
     "start_time": "2022-11-14T03:40:30.917646",
     "status": "completed"
    },
    "tags": []
   },
   "outputs": [],
   "source": [
    "train_data = pd.read_csv('/kaggle/input/house-prices-advanced-regression-techniques/train.csv')"
   ]
  },
  {
   "cell_type": "code",
   "execution_count": 3,
   "id": "ecf0af09",
   "metadata": {
    "execution": {
     "iopub.execute_input": "2022-11-14T03:40:30.994935Z",
     "iopub.status.busy": "2022-11-14T03:40:30.994540Z",
     "iopub.status.idle": "2022-11-14T03:40:31.058950Z",
     "shell.execute_reply": "2022-11-14T03:40:31.057758Z"
    },
    "papermill": {
     "duration": 0.077592,
     "end_time": "2022-11-14T03:40:31.062053",
     "exception": false,
     "start_time": "2022-11-14T03:40:30.984461",
     "status": "completed"
    },
    "tags": []
   },
   "outputs": [],
   "source": [
    "# Handle missing values for features where median/mean or most common value doesn't make sense\n",
    "def missing(train):\n",
    "    # Alley : data description says NA means \"no alley access\"\n",
    "    train.loc[:, \"Alley\"] = train.loc[:, \"Alley\"].fillna(\"None\")\n",
    "    # BedroomAbvGr : NA most likely means 0\n",
    "    train.loc[:, \"BedroomAbvGr\"] = train.loc[:, \"BedroomAbvGr\"].fillna(0)\n",
    "    # BsmtQual etc : data description says NA for basement features is \"no basement\"\n",
    "    train.loc[:, \"BsmtQual\"] = train.loc[:, \"BsmtQual\"].fillna(\"No\")\n",
    "    train.loc[:, \"BsmtCond\"] = train.loc[:, \"BsmtCond\"].fillna(\"No\")\n",
    "    train.loc[:, \"BsmtExposure\"] = train.loc[:, \"BsmtExposure\"].fillna(\"No\")\n",
    "    train.loc[:, \"BsmtFinType1\"] = train.loc[:, \"BsmtFinType1\"].fillna(\"No\")\n",
    "    train.loc[:, \"BsmtFinType2\"] = train.loc[:, \"BsmtFinType2\"].fillna(\"No\")\n",
    "    train.loc[:, \"BsmtFullBath\"] = train.loc[:, \"BsmtFullBath\"].fillna(0)\n",
    "    train.loc[:, \"BsmtHalfBath\"] = train.loc[:, \"BsmtHalfBath\"].fillna(0)\n",
    "    train.loc[:, \"BsmtUnfSF\"] = train.loc[:, \"BsmtUnfSF\"].fillna(0)\n",
    "    # CentralAir : NA most likely means No\n",
    "    train.loc[:, \"CentralAir\"] = train.loc[:, \"CentralAir\"].fillna(\"N\")\n",
    "    # Condition : NA most likely means Normal\n",
    "    train.loc[:, \"Condition1\"] = train.loc[:, \"Condition1\"].fillna(\"Norm\")\n",
    "    train.loc[:, \"Condition2\"] = train.loc[:, \"Condition2\"].fillna(\"Norm\")\n",
    "    # EnclosedPorch : NA most likely means no enclosed porch\n",
    "    train.loc[:, \"EnclosedPorch\"] = train.loc[:, \"EnclosedPorch\"].fillna(0)\n",
    "    # External stuff : NA most likely means average\n",
    "    train.loc[:, \"ExterCond\"] = train.loc[:, \"ExterCond\"].fillna(\"TA\")\n",
    "    train.loc[:, \"ExterQual\"] = train.loc[:, \"ExterQual\"].fillna(\"TA\")\n",
    "    # Fence : data description says NA means \"no fence\"\n",
    "    train.loc[:, \"Fence\"] = train.loc[:, \"Fence\"].fillna(\"No\")\n",
    "    # FireplaceQu : data description says NA means \"no fireplace\"\n",
    "    train.loc[:, \"FireplaceQu\"] = train.loc[:, \"FireplaceQu\"].fillna(\"No\")\n",
    "    train.loc[:, \"Fireplaces\"] = train.loc[:, \"Fireplaces\"].fillna(0)\n",
    "    # Functional : data description says NA means typical\n",
    "    train.loc[:, \"Functional\"] = train.loc[:, \"Functional\"].fillna(\"Typ\")\n",
    "    # GarageType etc : data description says NA for garage features is \"no garage\"\n",
    "    train.loc[:, \"GarageType\"] = train.loc[:, \"GarageType\"].fillna(\"No\")\n",
    "    train.loc[:, \"GarageFinish\"] = train.loc[:, \"GarageFinish\"].fillna(\"No\")\n",
    "    train.loc[:, \"GarageQual\"] = train.loc[:, \"GarageQual\"].fillna(\"No\")\n",
    "    train.loc[:, \"GarageCond\"] = train.loc[:, \"GarageCond\"].fillna(\"No\")\n",
    "    train.loc[:, \"GarageArea\"] = train.loc[:, \"GarageArea\"].fillna(0)\n",
    "    train.loc[:, \"GarageCars\"] = train.loc[:, \"GarageCars\"].fillna(0)\n",
    "    # HalfBath : NA most likely means no half baths above grade\n",
    "    train.loc[:, \"HalfBath\"] = train.loc[:, \"HalfBath\"].fillna(0)\n",
    "    # HeatingQC : NA most likely means typical\n",
    "    train.loc[:, \"HeatingQC\"] = train.loc[:, \"HeatingQC\"].fillna(\"TA\")\n",
    "    # KitchenAbvGr : NA most likely means 0\n",
    "    train.loc[:, \"KitchenAbvGr\"] = train.loc[:, \"KitchenAbvGr\"].fillna(0)\n",
    "    # KitchenQual : NA most likely means typical\n",
    "    train.loc[:, \"KitchenQual\"] = train.loc[:, \"KitchenQual\"].fillna(\"TA\")\n",
    "    # LotFrontage : NA most likely means no lot frontage\n",
    "    train.loc[:, \"LotFrontage\"] = train.loc[:, \"LotFrontage\"].fillna(0)\n",
    "    # LotShape : NA most likely means regular\n",
    "    train.loc[:, \"LotShape\"] = train.loc[:, \"LotShape\"].fillna(\"Reg\")\n",
    "    # MasVnrType : NA most likely means no veneer\n",
    "    train.loc[:, \"MasVnrType\"] = train.loc[:, \"MasVnrType\"].fillna(\"None\")\n",
    "    train.loc[:, \"MasVnrArea\"] = train.loc[:, \"MasVnrArea\"].fillna(0)\n",
    "    # MiscFeature : data description says NA means \"no misc feature\"\n",
    "    train.loc[:, \"MiscFeature\"] = train.loc[:, \"MiscFeature\"].fillna(\"No\")\n",
    "    train.loc[:, \"MiscVal\"] = train.loc[:, \"MiscVal\"].fillna(0)\n",
    "    # OpenPorchSF : NA most likely means no open porch\n",
    "    train.loc[:, \"OpenPorchSF\"] = train.loc[:, \"OpenPorchSF\"].fillna(0)\n",
    "    # PavedDrive : NA most likely means not paved\n",
    "    train.loc[:, \"PavedDrive\"] = train.loc[:, \"PavedDrive\"].fillna(\"N\")\n",
    "    # PoolQC : data description says NA means \"no pool\"\n",
    "    train.loc[:, \"PoolQC\"] = train.loc[:, \"PoolQC\"].fillna(\"No\")\n",
    "    train.loc[:, \"PoolArea\"] = train.loc[:, \"PoolArea\"].fillna(0)\n",
    "    # SaleCondition : NA most likely means normal sale\n",
    "    train.loc[:, \"SaleCondition\"] = train.loc[:, \"SaleCondition\"].fillna(\"Normal\")\n",
    "    # ScreenPorch : NA most likely means no screen porch\n",
    "    train.loc[:, \"ScreenPorch\"] = train.loc[:, \"ScreenPorch\"].fillna(0)\n",
    "    # TotRmsAbvGrd : NA most likely means 0\n",
    "    train.loc[:, \"TotRmsAbvGrd\"] = train.loc[:, \"TotRmsAbvGrd\"].fillna(0)\n",
    "    # Utilities : NA most likely means all public utilities\n",
    "    train.loc[:, \"Utilities\"] = train.loc[:, \"Utilities\"].fillna(\"AllPub\")\n",
    "    # WoodDeckSF : NA most likely means no wood deck\n",
    "    train.loc[:, \"WoodDeckSF\"] = train.loc[:, \"WoodDeckSF\"].fillna(0)\n",
    "    # Some numerical features are actually really categories\n",
    "    train = train.replace({\"MSSubClass\" : {20 : \"SC20\", 30 : \"SC30\", 40 : \"SC40\", 45 : \"SC45\", \n",
    "                                           50 : \"SC50\", 60 : \"SC60\", 70 : \"SC70\", 75 : \"SC75\", \n",
    "                                           80 : \"SC80\", 85 : \"SC85\", 90 : \"SC90\", 120 : \"SC120\", \n",
    "                                           150 : \"SC150\", 160 : \"SC160\", 180 : \"SC180\", 190 : \"SC190\"},\n",
    "                           \"MoSold\" : {1 : \"Jan\", 2 : \"Feb\", 3 : \"Mar\", 4 : \"Apr\", 5 : \"May\", 6 : \"Jun\",\n",
    "                                       7 : \"Jul\", 8 : \"Aug\", 9 : \"Sep\", 10 : \"Oct\", 11 : \"Nov\", 12 : \"Dec\"}\n",
    "                          })\n",
    "\n",
    "\n",
    "\n",
    "\n",
    "\n",
    "    # Encode some categorical features as ordered numbers when there is information in the order\n",
    "    train = train.replace({\"Alley\" : {\"Grvl\" : 1, \"Pave\" : 2},\n",
    "                           \"BsmtCond\" : {\"No\" : 0, \"Po\" : 1, \"Fa\" : 2, \"TA\" : 3, \"Gd\" : 4, \"Ex\" : 5},\n",
    "                           \"BsmtExposure\" : {\"No\" : 0, \"Mn\" : 1, \"Av\": 2, \"Gd\" : 3},\n",
    "                           \"BsmtFinType1\" : {\"No\" : 0, \"Unf\" : 1, \"LwQ\": 2, \"Rec\" : 3, \"BLQ\" : 4, \n",
    "                                             \"ALQ\" : 5, \"GLQ\" : 6},\n",
    "                           \"BsmtFinType2\" : {\"No\" : 0, \"Unf\" : 1, \"LwQ\": 2, \"Rec\" : 3, \"BLQ\" : 4, \n",
    "                                             \"ALQ\" : 5, \"GLQ\" : 6},\n",
    "                           \"BsmtQual\" : {\"No\" : 0, \"Po\" : 1, \"Fa\" : 2, \"TA\": 3, \"Gd\" : 4, \"Ex\" : 5},\n",
    "                           \"ExterCond\" : {\"Po\" : 1, \"Fa\" : 2, \"TA\": 3, \"Gd\": 4, \"Ex\" : 5},\n",
    "                           \"ExterQual\" : {\"Po\" : 1, \"Fa\" : 2, \"TA\": 3, \"Gd\": 4, \"Ex\" : 5},\n",
    "                           \"FireplaceQu\" : {\"No\" : 0, \"Po\" : 1, \"Fa\" : 2, \"TA\" : 3, \"Gd\" : 4, \"Ex\" : 5},\n",
    "                           \"Functional\" : {\"Sal\" : 1, \"Sev\" : 2, \"Maj2\" : 3, \"Maj1\" : 4, \"Mod\": 5, \n",
    "                                           \"Min2\" : 6, \"Min1\" : 7, \"Typ\" : 8},\n",
    "                           \"GarageCond\" : {\"No\" : 0, \"Po\" : 1, \"Fa\" : 2, \"TA\" : 3, \"Gd\" : 4, \"Ex\" : 5},\n",
    "                           \"GarageQual\" : {\"No\" : 0, \"Po\" : 1, \"Fa\" : 2, \"TA\" : 3, \"Gd\" : 4, \"Ex\" : 5},\n",
    "                           \"HeatingQC\" : {\"Po\" : 1, \"Fa\" : 2, \"TA\" : 3, \"Gd\" : 4, \"Ex\" : 5},\n",
    "                           \"KitchenQual\" : {\"Po\" : 1, \"Fa\" : 2, \"TA\" : 3, \"Gd\" : 4, \"Ex\" : 5},\n",
    "                           \"LandSlope\" : {\"Sev\" : 1, \"Mod\" : 2, \"Gtl\" : 3},\n",
    "                           \"LotShape\" : {\"IR3\" : 1, \"IR2\" : 2, \"IR1\" : 3, \"Reg\" : 4},\n",
    "                           \"PavedDrive\" : {\"N\" : 0, \"P\" : 1, \"Y\" : 2},\n",
    "                           \"PoolQC\" : {\"No\" : 0, \"Fa\" : 1, \"TA\" : 2, \"Gd\" : 3, \"Ex\" : 4},\n",
    "                           \"Street\" : {\"Grvl\" : 1, \"Pave\" : 2},\n",
    "                           \"Utilities\" : {\"ELO\" : 1, \"NoSeWa\" : 2, \"NoSewr\" : 3, \"AllPub\" : 4}}\n",
    "                         )\n",
    "    # Create new features\n",
    "    # 1* Simplifications of existing features\n",
    "    train[\"SimplOverallQual\"] = train.OverallQual.replace({1 : 1, 2 : 1, 3 : 1, # bad\n",
    "                                                           4 : 2, 5 : 2, 6 : 2, # average\n",
    "                                                           7 : 3, 8 : 3, 9 : 3, 10 : 3 # good\n",
    "                                                          })\n",
    "    train[\"SimplOverallCond\"] = train.OverallCond.replace({1 : 1, 2 : 1, 3 : 1, # bad\n",
    "                                                           4 : 2, 5 : 2, 6 : 2, # average\n",
    "                                                           7 : 3, 8 : 3, 9 : 3, 10 : 3 # good\n",
    "                                                          })\n",
    "    train[\"SimplPoolQC\"] = train.PoolQC.replace({1 : 1, 2 : 1, # average\n",
    "                                                 3 : 2, 4 : 2 # good\n",
    "                                                })\n",
    "    train[\"SimplGarageCond\"] = train.GarageCond.replace({1 : 1, # bad\n",
    "                                                         2 : 1, 3 : 1, # average\n",
    "                                                         4 : 2, 5 : 2 # good\n",
    "                                                        })\n",
    "    train[\"SimplGarageQual\"] = train.GarageQual.replace({1 : 1, # bad\n",
    "                                                         2 : 1, 3 : 1, # average\n",
    "                                                         4 : 2, 5 : 2 # good\n",
    "                                                        })\n",
    "    train[\"SimplFireplaceQu\"] = train.FireplaceQu.replace({1 : 1, # bad\n",
    "                                                           2 : 1, 3 : 1, # average\n",
    "                                                           4 : 2, 5 : 2 # good\n",
    "                                                          })\n",
    "    train[\"SimplFireplaceQu\"] = train.FireplaceQu.replace({1 : 1, # bad\n",
    "                                                           2 : 1, 3 : 1, # average\n",
    "                                                           4 : 2, 5 : 2 # good\n",
    "                                                          })\n",
    "    train[\"SimplFunctional\"] = train.Functional.replace({1 : 1, 2 : 1, # bad\n",
    "                                                         3 : 2, 4 : 2, # major\n",
    "                                                         5 : 3, 6 : 3, 7 : 3, # minor\n",
    "                                                         8 : 4 # typical\n",
    "                                                        })\n",
    "    train[\"SimplKitchenQual\"] = train.KitchenQual.replace({1 : 1, # bad\n",
    "                                                           2 : 1, 3 : 1, # average\n",
    "                                                           4 : 2, 5 : 2 # good\n",
    "                                                          })\n",
    "    train[\"SimplHeatingQC\"] = train.HeatingQC.replace({1 : 1, # bad\n",
    "                                                       2 : 1, 3 : 1, # average\n",
    "                                                       4 : 2, 5 : 2 # good\n",
    "                                                      })\n",
    "    train[\"SimplBsmtFinType1\"] = train.BsmtFinType1.replace({1 : 1, # unfinished\n",
    "                                                             2 : 1, 3 : 1, # rec room\n",
    "                                                             4 : 2, 5 : 2, 6 : 2 # living quarters\n",
    "                                                            })\n",
    "    train[\"SimplBsmtFinType2\"] = train.BsmtFinType2.replace({1 : 1, # unfinished\n",
    "                                                             2 : 1, 3 : 1, # rec room\n",
    "                                                             4 : 2, 5 : 2, 6 : 2 # living quarters\n",
    "                                                            })\n",
    "    train[\"SimplBsmtCond\"] = train.BsmtCond.replace({1 : 1, # bad\n",
    "                                                     2 : 1, 3 : 1, # average\n",
    "                                                     4 : 2, 5 : 2 # good\n",
    "                                                    })\n",
    "    train[\"SimplBsmtQual\"] = train.BsmtQual.replace({1 : 1, # bad\n",
    "                                                     2 : 1, 3 : 1, # average\n",
    "                                                     4 : 2, 5 : 2 # good\n",
    "                                                    })\n",
    "    train[\"SimplExterCond\"] = train.ExterCond.replace({1 : 1, # bad\n",
    "                                                       2 : 1, 3 : 1, # average\n",
    "                                                       4 : 2, 5 : 2 # good\n",
    "                                                      })\n",
    "    train[\"SimplExterQual\"] = train.ExterQual.replace({1 : 1, # bad\n",
    "                                                       2 : 1, 3 : 1, # average\n",
    "                                                       4 : 2, 5 : 2 # good\n",
    "                                                      })\n",
    "\n",
    "    # 2* Combinations of existing features\n",
    "    # Overall quality of the house\n",
    "    train[\"OverallGrade\"] = train[\"OverallQual\"] * train[\"OverallCond\"]\n",
    "    # Overall quality of the garage\n",
    "    train[\"GarageGrade\"] = train[\"GarageQual\"] * train[\"GarageCond\"]\n",
    "    # Overall quality of the exterior\n",
    "    train[\"ExterGrade\"] = train[\"ExterQual\"] * train[\"ExterCond\"]\n",
    "    # Overall kitchen score\n",
    "    train[\"KitchenScore\"] = train[\"KitchenAbvGr\"] * train[\"KitchenQual\"]\n",
    "    # Overall fireplace score\n",
    "    train[\"FireplaceScore\"] = train[\"Fireplaces\"] * train[\"FireplaceQu\"]\n",
    "    # Overall garage score\n",
    "    train[\"GarageScore\"] = train[\"GarageArea\"] * train[\"GarageQual\"]\n",
    "    # Overall pool score\n",
    "    train[\"PoolScore\"] = train[\"PoolArea\"] * train[\"PoolQC\"]\n",
    "    # Simplified overall quality of the house\n",
    "    train[\"SimplOverallGrade\"] = train[\"SimplOverallQual\"] * train[\"SimplOverallCond\"]\n",
    "    # Simplified overall quality of the exterior\n",
    "    train[\"SimplExterGrade\"] = train[\"SimplExterQual\"] * train[\"SimplExterCond\"]\n",
    "    # Simplified overall pool score\n",
    "    train[\"SimplPoolScore\"] = train[\"PoolArea\"] * train[\"SimplPoolQC\"]\n",
    "    # Simplified overall garage score\n",
    "    train[\"SimplGarageScore\"] = train[\"GarageArea\"] * train[\"SimplGarageQual\"]\n",
    "    # Simplified overall fireplace score\n",
    "    train[\"SimplFireplaceScore\"] = train[\"Fireplaces\"] * train[\"SimplFireplaceQu\"]\n",
    "    # Simplified overall kitchen score\n",
    "    train[\"SimplKitchenScore\"] = train[\"KitchenAbvGr\"] * train[\"SimplKitchenQual\"]\n",
    "    # Total number of bathrooms\n",
    "    train[\"TotalBath\"] = train[\"BsmtFullBath\"] + (0.5 * train[\"BsmtHalfBath\"]) + \\\n",
    "    train[\"FullBath\"] + (0.5 * train[\"HalfBath\"])\n",
    "    # Total SF for house (incl. basement)\n",
    "    train[\"AllSF\"] = train[\"GrLivArea\"] + train[\"TotalBsmtSF\"]\n",
    "    # Total SF for 1st + 2nd floors\n",
    "    train[\"AllFlrsSF\"] = train[\"1stFlrSF\"] + train[\"2ndFlrSF\"]\n",
    "    # Total SF for porch\n",
    "    train[\"AllPorchSF\"] = train[\"OpenPorchSF\"] + train[\"EnclosedPorch\"] + \\\n",
    "    train[\"3SsnPorch\"] + train[\"ScreenPorch\"]\n",
    "    # Has masonry veneer or not\n",
    "    train[\"HasMasVnr\"] = train.MasVnrType.replace({\"BrkCmn\" : 1, \"BrkFace\" : 1, \"CBlock\" : 1, \n",
    "                                                   \"Stone\" : 1, \"None\" : 0})\n",
    "    # House completed before sale or not\n",
    "    train[\"BoughtOffPlan\"] = train.SaleCondition.replace({\"Abnorml\" : 0, \"Alloca\" : 0, \"AdjLand\" : 0, \n",
    "                                                          \"Family\" : 0, \"Normal\" : 0, \"Partial\" : 1})\n",
    "    \n",
    "    \n",
    "\n",
    "    # Create new features\n",
    "    # 3* Polynomials on the top 10 existing features\n",
    "    train[\"OverallQual-s2\"] = train[\"OverallQual\"] ** 2\n",
    "    train[\"OverallQual-s3\"] = train[\"OverallQual\"] ** 3\n",
    "    train[\"OverallQual-Sq\"] = np.sqrt(train[\"OverallQual\"])\n",
    "    train[\"AllSF-2\"] = train[\"AllSF\"] ** 2\n",
    "    train[\"AllSF-3\"] = train[\"AllSF\"] ** 3\n",
    "    train[\"AllSF-Sq\"] = np.sqrt(train[\"AllSF\"])\n",
    "    train[\"AllFlrsSF-2\"] = train[\"AllFlrsSF\"] ** 2\n",
    "    train[\"AllFlrsSF-3\"] = train[\"AllFlrsSF\"] ** 3\n",
    "    train[\"AllFlrsSF-Sq\"] = np.sqrt(train[\"AllFlrsSF\"])\n",
    "    train[\"GrLivArea-2\"] = train[\"GrLivArea\"] ** 2\n",
    "    train[\"GrLivArea-3\"] = train[\"GrLivArea\"] ** 3\n",
    "    train[\"GrLivArea-Sq\"] = np.sqrt(train[\"GrLivArea\"])\n",
    "    train[\"SimplOverallQual-s2\"] = train[\"SimplOverallQual\"] ** 2\n",
    "    train[\"SimplOverallQual-s3\"] = train[\"SimplOverallQual\"] ** 3\n",
    "    train[\"SimplOverallQual-Sq\"] = np.sqrt(train[\"SimplOverallQual\"])\n",
    "    train[\"ExterQual-2\"] = train[\"ExterQual\"] ** 2\n",
    "    train[\"ExterQual-3\"] = train[\"ExterQual\"] ** 3\n",
    "    train[\"ExterQual-Sq\"] = np.sqrt(train[\"ExterQual\"])\n",
    "    train[\"GarageCars-2\"] = train[\"GarageCars\"] ** 2\n",
    "    train[\"GarageCars-3\"] = train[\"GarageCars\"] ** 3\n",
    "    train[\"GarageCars-Sq\"] = np.sqrt(train[\"GarageCars\"])\n",
    "    train[\"TotalBath-2\"] = train[\"TotalBath\"] ** 2\n",
    "    train[\"TotalBath-3\"] = train[\"TotalBath\"] ** 3\n",
    "    train[\"TotalBath-Sq\"] = np.sqrt(train[\"TotalBath\"])\n",
    "    train[\"KitchenQual-2\"] = train[\"KitchenQual\"] ** 2\n",
    "    train[\"KitchenQual-3\"] = train[\"KitchenQual\"] ** 3\n",
    "    train[\"KitchenQual-Sq\"] = np.sqrt(train[\"KitchenQual\"])\n",
    "    train[\"GarageScore-2\"] = train[\"GarageScore\"] ** 2\n",
    "    train[\"GarageScore-3\"] = train[\"GarageScore\"] ** 3\n",
    "    train[\"GarageScore-Sq\"] = np.sqrt(train[\"GarageScore\"])\n",
    "\n",
    "\n",
    "    return train"
   ]
  },
  {
   "cell_type": "code",
   "execution_count": 4,
   "id": "0ae86553",
   "metadata": {
    "execution": {
     "iopub.execute_input": "2022-11-14T03:40:31.080203Z",
     "iopub.status.busy": "2022-11-14T03:40:31.079750Z",
     "iopub.status.idle": "2022-11-14T03:40:31.084397Z",
     "shell.execute_reply": "2022-11-14T03:40:31.083195Z"
    },
    "papermill": {
     "duration": 0.01706,
     "end_time": "2022-11-14T03:40:31.087302",
     "exception": false,
     "start_time": "2022-11-14T03:40:31.070242",
     "status": "completed"
    },
    "tags": []
   },
   "outputs": [],
   "source": [
    "# train_data = missing(train_data)"
   ]
  },
  {
   "cell_type": "code",
   "execution_count": 5,
   "id": "cadfce5e",
   "metadata": {
    "execution": {
     "iopub.execute_input": "2022-11-14T03:40:31.107422Z",
     "iopub.status.busy": "2022-11-14T03:40:31.106336Z",
     "iopub.status.idle": "2022-11-14T03:40:31.127397Z",
     "shell.execute_reply": "2022-11-14T03:40:31.126227Z"
    },
    "papermill": {
     "duration": 0.033251,
     "end_time": "2022-11-14T03:40:31.130211",
     "exception": false,
     "start_time": "2022-11-14T03:40:31.096960",
     "status": "completed"
    },
    "tags": []
   },
   "outputs": [],
   "source": [
    "# quantitative = [f for f in train_data.columns if train_data.dtypes[f] != 'object']\n",
    "# quantitative.remove('SalePrice')\n",
    "# quantitative.remove('Id')\n",
    "# qualitative = [f for f in train_data.columns if train_data.dtypes[f] == 'object']\n",
    "#########################\n",
    "quantitative = train_data.select_dtypes(exclude=['object']).columns\n",
    "quantitative = quantitative.drop('SalePrice')\n",
    "qualitative = train_data.select_dtypes(include=['object']).columns"
   ]
  },
  {
   "cell_type": "code",
   "execution_count": 6,
   "id": "56ca9ad6",
   "metadata": {
    "execution": {
     "iopub.execute_input": "2022-11-14T03:40:31.148124Z",
     "iopub.status.busy": "2022-11-14T03:40:31.147674Z",
     "iopub.status.idle": "2022-11-14T03:40:31.155318Z",
     "shell.execute_reply": "2022-11-14T03:40:31.154105Z"
    },
    "papermill": {
     "duration": 0.019349,
     "end_time": "2022-11-14T03:40:31.157714",
     "exception": false,
     "start_time": "2022-11-14T03:40:31.138365",
     "status": "completed"
    },
    "tags": []
   },
   "outputs": [],
   "source": [
    "def anova(frame, featureslist):\n",
    "    anv = pd.DataFrame()\n",
    "    anv['feature'] = featureslist\n",
    "    pvals = []\n",
    "    for c in featureslist:\n",
    "        samples = []\n",
    "        for cls in frame[c].unique():\n",
    "            s = frame[frame[c] == cls]['SalePrice'].values\n",
    "            samples.append(s)\n",
    "        pval = stats.f_oneway(*samples)[1]\n",
    "        pvals.append(pval)\n",
    "    anv['pval'] = pvals\n",
    "    return anv.sort_values('pval')"
   ]
  },
  {
   "cell_type": "code",
   "execution_count": 7,
   "id": "414e2c56",
   "metadata": {
    "execution": {
     "iopub.execute_input": "2022-11-14T03:40:31.176191Z",
     "iopub.status.busy": "2022-11-14T03:40:31.175687Z",
     "iopub.status.idle": "2022-11-14T03:40:32.112400Z",
     "shell.execute_reply": "2022-11-14T03:40:32.111269Z"
    },
    "papermill": {
     "duration": 0.949154,
     "end_time": "2022-11-14T03:40:32.115068",
     "exception": false,
     "start_time": "2022-11-14T03:40:31.165914",
     "status": "completed"
    },
    "tags": []
   },
   "outputs": [
    {
     "name": "stdout",
     "output_type": "stream",
     "text": [
      "8     Neighborhood\n",
      "18       ExterQual\n",
      "30     KitchenQual\n",
      "20      Foundation\n",
      "27       HeatingQC\n",
      "Name: feature, dtype: object\n"
     ]
    },
    {
     "data": {
      "image/png": "[encoded data removed]",
      "text/plain": [
       "<Figure size 432x288 with 1 Axes>"
      ]
     },
     "metadata": {
      "needs_background": "light"
     },
     "output_type": "display_data"
    }
   ],
   "source": [
    "a = anova(train_data, qualitative)\n",
    "a['disparity'] = np.log(1./a['pval'].values)\n",
    "sns.barplot(data=a, x='feature', y='disparity')\n",
    "x=plt.xticks(rotation=90)\n",
    "qualitative = a[a['disparity']>2.5*a['disparity'].median()]['feature']\n",
    "print(qualitative)"
   ]
  },
  {
   "cell_type": "code",
   "execution_count": 8,
   "id": "ea26e243",
   "metadata": {
    "execution": {
     "iopub.execute_input": "2022-11-14T03:40:32.134638Z",
     "iopub.status.busy": "2022-11-14T03:40:32.134211Z",
     "iopub.status.idle": "2022-11-14T03:40:36.772979Z",
     "shell.execute_reply": "2022-11-14T03:40:36.771654Z"
    },
    "papermill": {
     "duration": 4.651617,
     "end_time": "2022-11-14T03:40:36.775826",
     "exception": false,
     "start_time": "2022-11-14T03:40:32.124209",
     "status": "completed"
    },
    "tags": []
   },
   "outputs": [
    {
     "name": "stdout",
     "output_type": "stream",
     "text": [
      "4      OverallQual\n",
      "26      GarageCars\n",
      "27      GarageArea\n",
      "19        FullBath\n",
      "6        YearBuilt\n",
      "23    TotRmsAbvGrd\n",
      "16       GrLivArea\n",
      "12     TotalBsmtSF\n",
      "24      Fireplaces\n",
      "1       MSSubClass\n",
      "7     YearRemodAdd\n",
      "Name: feature, dtype: object\n"
     ]
    },
    {
     "data": {
      "image/png": "[encoded data removed]",
      "text/plain": [
       "<Figure size 432x288 with 1 Axes>"
      ]
     },
     "metadata": {
      "needs_background": "light"
     },
     "output_type": "display_data"
    }
   ],
   "source": [
    "a = anova(train_data, quantitative)\n",
    "a['disparity'] = np.log(1./a['pval'].values)\n",
    "sns.barplot(data=a, x='feature', y='disparity')\n",
    "x=plt.xticks(rotation=90)\n",
    "quantitative = a[a['disparity']>2.0*a['disparity'].median()]['feature']\n",
    "print(quantitative)"
   ]
  },
  {
   "cell_type": "code",
   "execution_count": 9,
   "id": "23a2a314",
   "metadata": {
    "execution": {
     "iopub.execute_input": "2022-11-14T03:40:36.796317Z",
     "iopub.status.busy": "2022-11-14T03:40:36.795889Z",
     "iopub.status.idle": "2022-11-14T03:40:36.801315Z",
     "shell.execute_reply": "2022-11-14T03:40:36.800100Z"
    },
    "papermill": {
     "duration": 0.018859,
     "end_time": "2022-11-14T03:40:36.803943",
     "exception": false,
     "start_time": "2022-11-14T03:40:36.785084",
     "status": "completed"
    },
    "tags": []
   },
   "outputs": [],
   "source": [
    "# nanvalues = train_data.isnull().sum()\n",
    "# blacklist = list(nanvalues[nanvalues>100].index) ### set blacklist threshold, columns with more than 100 NaN are removed from feature list\n",
    "# blacklist = blacklist + ['Id', 'SalePrice', 'GarageYrBlt' ]\n",
    "# allcolumns = list(train_data.columns)\n",
    "# features = list(set(allcolumns).difference(blacklist))\n",
    "# features = ['1stFlrSF', 'BsmtUnfSF', 'GarageArea', 'GrLivArea',  'LotArea', 'CentralAir', 'Neighborhood', \n",
    "#             'ExterQual', 'BsmtQual', 'KitchenQual', 'OverallQual', 'TotalBsmtSF', 'YearBuilt', 'YearRemodAdd']\n",
    "features = list(quantitative) + list(qualitative)"
   ]
  },
  {
   "cell_type": "code",
   "execution_count": 10,
   "id": "d39b57e8",
   "metadata": {
    "execution": {
     "iopub.execute_input": "2022-11-14T03:40:36.824947Z",
     "iopub.status.busy": "2022-11-14T03:40:36.824566Z",
     "iopub.status.idle": "2022-11-14T03:40:36.829146Z",
     "shell.execute_reply": "2022-11-14T03:40:36.827980Z"
    },
    "papermill": {
     "duration": 0.018157,
     "end_time": "2022-11-14T03:40:36.831450",
     "exception": false,
     "start_time": "2022-11-14T03:40:36.813293",
     "status": "completed"
    },
    "tags": []
   },
   "outputs": [],
   "source": [
    "# var = 'OverallQual'\n",
    "# data = pd.concat([train_data['SalePrice'], train_data[var]], axis=1)\n",
    "# f, ax = plt.subplots(figsize=(8, 6))\n",
    "# fig = sns.boxplot(x=var, y=\"SalePrice\", data=data)\n",
    "# fig.axis(ymin=0, ymax=800000);"
   ]
  },
  {
   "cell_type": "code",
   "execution_count": 11,
   "id": "c13f3d91",
   "metadata": {
    "execution": {
     "iopub.execute_input": "2022-11-14T03:40:36.852002Z",
     "iopub.status.busy": "2022-11-14T03:40:36.851623Z",
     "iopub.status.idle": "2022-11-14T03:40:36.856324Z",
     "shell.execute_reply": "2022-11-14T03:40:36.855098Z"
    },
    "papermill": {
     "duration": 0.017568,
     "end_time": "2022-11-14T03:40:36.858642",
     "exception": false,
     "start_time": "2022-11-14T03:40:36.841074",
     "status": "completed"
    },
    "tags": []
   },
   "outputs": [],
   "source": [
    "# var = 'YearBuilt'\n",
    "# data = pd.concat([train_data['SalePrice'], train_data[var]], axis=1)\n",
    "# f, ax = plt.subplots(figsize=(16, 8))\n",
    "# fig = sns.boxplot(x=var, y=\"SalePrice\", data=data)\n",
    "# fig.axis(ymin=0, ymax=800000);\n",
    "# plt.xticks(rotation=90);"
   ]
  },
  {
   "cell_type": "code",
   "execution_count": 12,
   "id": "198c7278",
   "metadata": {
    "execution": {
     "iopub.execute_input": "2022-11-14T03:40:36.879294Z",
     "iopub.status.busy": "2022-11-14T03:40:36.878492Z",
     "iopub.status.idle": "2022-11-14T03:40:36.883873Z",
     "shell.execute_reply": "2022-11-14T03:40:36.882671Z"
    },
    "papermill": {
     "duration": 0.018616,
     "end_time": "2022-11-14T03:40:36.886470",
     "exception": false,
     "start_time": "2022-11-14T03:40:36.867854",
     "status": "completed"
    },
    "tags": []
   },
   "outputs": [],
   "source": [
    "# correlation =  train_data.corr().sort_values('SalePrice', ascending=False)\n",
    "# f, ax = plt.subplots(figsize=(12, 9))\n",
    "# sns.heatmap(correlation, vmax=0.9, square=False)"
   ]
  },
  {
   "cell_type": "code",
   "execution_count": 13,
   "id": "529c874e",
   "metadata": {
    "execution": {
     "iopub.execute_input": "2022-11-14T03:40:36.907205Z",
     "iopub.status.busy": "2022-11-14T03:40:36.906781Z",
     "iopub.status.idle": "2022-11-14T03:40:36.911317Z",
     "shell.execute_reply": "2022-11-14T03:40:36.910362Z"
    },
    "papermill": {
     "duration": 0.017563,
     "end_time": "2022-11-14T03:40:36.913612",
     "exception": false,
     "start_time": "2022-11-14T03:40:36.896049",
     "status": "completed"
    },
    "tags": []
   },
   "outputs": [],
   "source": [
    "# correlation_features =  train_data[features+['SalePrice']].corr().sort_values('SalePrice', ascending=False)\n",
    "# f, ax = plt.subplots(figsize=(12, 9))\n",
    "# sns.heatmap(correlation_features, vmax=0.9, square=False)"
   ]
  },
  {
   "cell_type": "code",
   "execution_count": 14,
   "id": "625934c1",
   "metadata": {
    "execution": {
     "iopub.execute_input": "2022-11-14T03:40:36.935072Z",
     "iopub.status.busy": "2022-11-14T03:40:36.934653Z",
     "iopub.status.idle": "2022-11-14T03:40:36.938839Z",
     "shell.execute_reply": "2022-11-14T03:40:36.937999Z"
    },
    "papermill": {
     "duration": 0.017519,
     "end_time": "2022-11-14T03:40:36.940965",
     "exception": false,
     "start_time": "2022-11-14T03:40:36.923446",
     "status": "completed"
    },
    "tags": []
   },
   "outputs": [],
   "source": [
    "# k = 15 #number of variables for heatmap\n",
    "# cols = correlation.nlargest(k, 'SalePrice')['SalePrice'].index\n",
    "# cm = np.corrcoef(train_data[cols].values.T)\n",
    "# # cm = np.sort(cm, axis=0)\n",
    "# sns.set(font_scale=1.25)\n",
    "# hm = sns.heatmap(cm, cbar=True, annot=True, square=True, fmt='.2f', annot_kws={'size': 10}, \n",
    "#                  yticklabels=cols.values, xticklabels=cols.values)\n",
    "# plt.show()"
   ]
  },
  {
   "cell_type": "code",
   "execution_count": 15,
   "id": "3c5c280f",
   "metadata": {
    "execution": {
     "iopub.execute_input": "2022-11-14T03:40:36.962850Z",
     "iopub.status.busy": "2022-11-14T03:40:36.962095Z",
     "iopub.status.idle": "2022-11-14T03:40:36.965914Z",
     "shell.execute_reply": "2022-11-14T03:40:36.965164Z"
    },
    "papermill": {
     "duration": 0.01752,
     "end_time": "2022-11-14T03:40:36.968129",
     "exception": false,
     "start_time": "2022-11-14T03:40:36.950609",
     "status": "completed"
    },
    "tags": []
   },
   "outputs": [],
   "source": [
    "# data = pd.concat([train_data['SalePrice'], train_data['YearBuilt']], axis=1)\n",
    "# data.plot.scatter(x=var, y='SalePrice', ylim=(0,800000));"
   ]
  },
  {
   "cell_type": "code",
   "execution_count": 16,
   "id": "4f8c0eb9",
   "metadata": {
    "execution": {
     "iopub.execute_input": "2022-11-14T03:40:36.989696Z",
     "iopub.status.busy": "2022-11-14T03:40:36.988946Z",
     "iopub.status.idle": "2022-11-14T03:40:37.000702Z",
     "shell.execute_reply": "2022-11-14T03:40:36.999408Z"
    },
    "papermill": {
     "duration": 0.025462,
     "end_time": "2022-11-14T03:40:37.003270",
     "exception": false,
     "start_time": "2022-11-14T03:40:36.977808",
     "status": "completed"
    },
    "tags": []
   },
   "outputs": [
    {
     "name": "stdout",
     "output_type": "stream",
     "text": [
      "PoolQC          1453\n",
      "MiscFeature     1406\n",
      "Alley           1369\n",
      "Fence           1179\n",
      "FireplaceQu      690\n",
      "LotFrontage      259\n",
      "GarageYrBlt       81\n",
      "GarageCond        81\n",
      "GarageType        81\n",
      "GarageFinish      81\n",
      "GarageQual        81\n",
      "BsmtFinType2      38\n",
      "BsmtExposure      38\n",
      "BsmtQual          37\n",
      "BsmtCond          37\n",
      "BsmtFinType1      37\n",
      "MasVnrArea         8\n",
      "MasVnrType         8\n",
      "Electrical         1\n",
      "Id                 0\n",
      "dtype: int64\n"
     ]
    }
   ],
   "source": [
    "missing_data = train_data.isnull().sum()\n",
    "print(missing_data.sort_values(ascending=False).head(20))"
   ]
  },
  {
   "cell_type": "code",
   "execution_count": 17,
   "id": "86fa2717",
   "metadata": {
    "execution": {
     "iopub.execute_input": "2022-11-14T03:40:37.025787Z",
     "iopub.status.busy": "2022-11-14T03:40:37.024550Z",
     "iopub.status.idle": "2022-11-14T03:40:37.029196Z",
     "shell.execute_reply": "2022-11-14T03:40:37.028263Z"
    },
    "papermill": {
     "duration": 0.018538,
     "end_time": "2022-11-14T03:40:37.031794",
     "exception": false,
     "start_time": "2022-11-14T03:40:37.013256",
     "status": "completed"
    },
    "tags": []
   },
   "outputs": [],
   "source": [
    "# train_data_dropna = train_data.dropna(subset=features)\n",
    "# print(train_data_dropna[features].describe())"
   ]
  },
  {
   "cell_type": "code",
   "execution_count": 18,
   "id": "ba7c943b",
   "metadata": {
    "execution": {
     "iopub.execute_input": "2022-11-14T03:40:37.053414Z",
     "iopub.status.busy": "2022-11-14T03:40:37.052968Z",
     "iopub.status.idle": "2022-11-14T03:40:37.080879Z",
     "shell.execute_reply": "2022-11-14T03:40:37.079688Z"
    },
    "papermill": {
     "duration": 0.041853,
     "end_time": "2022-11-14T03:40:37.083527",
     "exception": false,
     "start_time": "2022-11-14T03:40:37.041674",
     "status": "completed"
    },
    "tags": []
   },
   "outputs": [
    {
     "name": "stdout",
     "output_type": "stream",
     "text": [
      "OverallQual     0\n",
      "GarageCars      0\n",
      "GarageArea      0\n",
      "FullBath        0\n",
      "YearBuilt       0\n",
      "TotRmsAbvGrd    0\n",
      "GrLivArea       0\n",
      "TotalBsmtSF     0\n",
      "Fireplaces      0\n",
      "MSSubClass      0\n",
      "YearRemodAdd    0\n",
      "Neighborhood    0\n",
      "ExterQual       0\n",
      "KitchenQual     0\n",
      "Foundation      0\n",
      "HeatingQC       0\n",
      "dtype: int64\n"
     ]
    }
   ],
   "source": [
    "# train_data = train_data.drop((missing_data[missing_data > 1]).index,1)\n",
    "# train_data = train_data.drop(train_data.loc[train_data['Electrical'].isnull()].index)\n",
    "train_data = train_data.fillna(train_data.median())\n",
    "print(train_data[features].isnull().sum().sort_values(ascending=False).head(20))"
   ]
  },
  {
   "cell_type": "code",
   "execution_count": 19,
   "id": "29ca891a",
   "metadata": {
    "execution": {
     "iopub.execute_input": "2022-11-14T03:40:37.106179Z",
     "iopub.status.busy": "2022-11-14T03:40:37.104983Z",
     "iopub.status.idle": "2022-11-14T03:40:37.110054Z",
     "shell.execute_reply": "2022-11-14T03:40:37.108985Z"
    },
    "papermill": {
     "duration": 0.018972,
     "end_time": "2022-11-14T03:40:37.112430",
     "exception": false,
     "start_time": "2022-11-14T03:40:37.093458",
     "status": "completed"
    },
    "tags": []
   },
   "outputs": [],
   "source": [
    "# sns.set()\n",
    "# sns.pairplot(train_data[features+['SalePrice']], size = 2.5)\n",
    "# plt.show();"
   ]
  },
  {
   "cell_type": "code",
   "execution_count": 20,
   "id": "3b77089d",
   "metadata": {
    "execution": {
     "iopub.execute_input": "2022-11-14T03:40:37.133566Z",
     "iopub.status.busy": "2022-11-14T03:40:37.133155Z",
     "iopub.status.idle": "2022-11-14T03:40:37.138174Z",
     "shell.execute_reply": "2022-11-14T03:40:37.136997Z"
    },
    "papermill": {
     "duration": 0.018339,
     "end_time": "2022-11-14T03:40:37.140578",
     "exception": false,
     "start_time": "2022-11-14T03:40:37.122239",
     "status": "completed"
    },
    "tags": []
   },
   "outputs": [],
   "source": [
    "# for var in features:\n",
    "#     data = pd.concat([train_data['SalePrice'], train_data[var]], axis=1)\n",
    "#     data.plot.scatter(x=var, y='SalePrice', ylim=(0,800000));"
   ]
  },
  {
   "cell_type": "code",
   "execution_count": 21,
   "id": "f83fd048",
   "metadata": {
    "execution": {
     "iopub.execute_input": "2022-11-14T03:40:37.162453Z",
     "iopub.status.busy": "2022-11-14T03:40:37.161701Z",
     "iopub.status.idle": "2022-11-14T03:40:37.166356Z",
     "shell.execute_reply": "2022-11-14T03:40:37.165390Z"
    },
    "papermill": {
     "duration": 0.018018,
     "end_time": "2022-11-14T03:40:37.168560",
     "exception": false,
     "start_time": "2022-11-14T03:40:37.150542",
     "status": "completed"
    },
    "tags": []
   },
   "outputs": [],
   "source": [
    "# # outliers!\n",
    "# train_data = train_data.drop(train_data.loc[train_data['1stFlrSF']>3000].index)\n",
    "# train_data = train_data.drop(train_data.loc[(train_data['GarageArea']>1200) & (train_data['SalePrice']<300000)].index)\n",
    "# train_data = train_data.drop(train_data.loc[(train_data['GrLivArea']>4000) & (train_data['SalePrice']<200000)].index)\n",
    "# train_data = train_data.drop(train_data.loc[train_data['LotArea']>100000].index)"
   ]
  },
  {
   "cell_type": "code",
   "execution_count": 22,
   "id": "3ef8d6a9",
   "metadata": {
    "execution": {
     "iopub.execute_input": "2022-11-14T03:40:37.190698Z",
     "iopub.status.busy": "2022-11-14T03:40:37.189546Z",
     "iopub.status.idle": "2022-11-14T03:40:37.194841Z",
     "shell.execute_reply": "2022-11-14T03:40:37.193979Z"
    },
    "papermill": {
     "duration": 0.018585,
     "end_time": "2022-11-14T03:40:37.196980",
     "exception": false,
     "start_time": "2022-11-14T03:40:37.178395",
     "status": "completed"
    },
    "tags": []
   },
   "outputs": [],
   "source": [
    "# var = 'SalePrice'\n",
    "# sns.distplot(np.log(train_data[var]), fit=norm);\n",
    "# fig = plt.figure()\n",
    "# res = stats.probplot(np.log(train_data[var]), plot=plt)"
   ]
  },
  {
   "cell_type": "code",
   "execution_count": 23,
   "id": "b7139b23",
   "metadata": {
    "execution": {
     "iopub.execute_input": "2022-11-14T03:40:37.219182Z",
     "iopub.status.busy": "2022-11-14T03:40:37.218420Z",
     "iopub.status.idle": "2022-11-14T03:40:37.222711Z",
     "shell.execute_reply": "2022-11-14T03:40:37.221659Z"
    },
    "papermill": {
     "duration": 0.018033,
     "end_time": "2022-11-14T03:40:37.225014",
     "exception": false,
     "start_time": "2022-11-14T03:40:37.206981",
     "status": "completed"
    },
    "tags": []
   },
   "outputs": [],
   "source": [
    "# var = '1stFlrSF'\n",
    "# sns.distplot(np.log(train_data[var]), fit=norm);\n",
    "# fig = plt.figure()\n",
    "# res = stats.probplot(np.log(train_data[var]), plot=plt)"
   ]
  },
  {
   "cell_type": "code",
   "execution_count": 24,
   "id": "bf708ad5",
   "metadata": {
    "execution": {
     "iopub.execute_input": "2022-11-14T03:40:37.247180Z",
     "iopub.status.busy": "2022-11-14T03:40:37.246727Z",
     "iopub.status.idle": "2022-11-14T03:40:37.251539Z",
     "shell.execute_reply": "2022-11-14T03:40:37.250363Z"
    },
    "papermill": {
     "duration": 0.01854,
     "end_time": "2022-11-14T03:40:37.253773",
     "exception": false,
     "start_time": "2022-11-14T03:40:37.235233",
     "status": "completed"
    },
    "tags": []
   },
   "outputs": [],
   "source": [
    "# var = 'GarageArea'\n",
    "# sns.distplot(train_data[var], fit=norm);\n",
    "# fig = plt.figure()\n",
    "# res = stats.probplot(train_data[var], plot=plt)"
   ]
  },
  {
   "cell_type": "code",
   "execution_count": 25,
   "id": "08ff8a00",
   "metadata": {
    "execution": {
     "iopub.execute_input": "2022-11-14T03:40:37.277839Z",
     "iopub.status.busy": "2022-11-14T03:40:37.277080Z",
     "iopub.status.idle": "2022-11-14T03:40:37.282516Z",
     "shell.execute_reply": "2022-11-14T03:40:37.281264Z"
    },
    "papermill": {
     "duration": 0.020603,
     "end_time": "2022-11-14T03:40:37.285213",
     "exception": false,
     "start_time": "2022-11-14T03:40:37.264610",
     "status": "completed"
    },
    "tags": []
   },
   "outputs": [],
   "source": [
    "# var = 'GrLivArea'\n",
    "# sns.distplot(train_data[var], fit=norm);\n",
    "# fig = plt.figure()\n",
    "# res = stats.probplot(train_data[var], plot=plt)"
   ]
  },
  {
   "cell_type": "code",
   "execution_count": 26,
   "id": "dee81013",
   "metadata": {
    "execution": {
     "iopub.execute_input": "2022-11-14T03:40:37.307741Z",
     "iopub.status.busy": "2022-11-14T03:40:37.307093Z",
     "iopub.status.idle": "2022-11-14T03:40:37.312132Z",
     "shell.execute_reply": "2022-11-14T03:40:37.310992Z"
    },
    "papermill": {
     "duration": 0.019152,
     "end_time": "2022-11-14T03:40:37.314630",
     "exception": false,
     "start_time": "2022-11-14T03:40:37.295478",
     "status": "completed"
    },
    "tags": []
   },
   "outputs": [],
   "source": [
    "# var = 'LotArea'\n",
    "# sns.distplot(train_data[var], fit=norm);\n",
    "# fig = plt.figure()\n",
    "# res = stats.probplot(train_data[var], plot=plt)"
   ]
  },
  {
   "cell_type": "code",
   "execution_count": 27,
   "id": "0ab1b9e3",
   "metadata": {
    "execution": {
     "iopub.execute_input": "2022-11-14T03:40:37.337643Z",
     "iopub.status.busy": "2022-11-14T03:40:37.336692Z",
     "iopub.status.idle": "2022-11-14T03:40:37.341008Z",
     "shell.execute_reply": "2022-11-14T03:40:37.340128Z"
    },
    "papermill": {
     "duration": 0.018599,
     "end_time": "2022-11-14T03:40:37.343341",
     "exception": false,
     "start_time": "2022-11-14T03:40:37.324742",
     "status": "completed"
    },
    "tags": []
   },
   "outputs": [],
   "source": [
    "# var = 'OverallQual'\n",
    "# sns.distplot(train_data[var], fit=norm);\n",
    "# fig = plt.figure()\n",
    "# res = stats.probplot(train_data[var], plot=plt)"
   ]
  },
  {
   "cell_type": "code",
   "execution_count": 28,
   "id": "db02beac",
   "metadata": {
    "execution": {
     "iopub.execute_input": "2022-11-14T03:40:37.365976Z",
     "iopub.status.busy": "2022-11-14T03:40:37.365315Z",
     "iopub.status.idle": "2022-11-14T03:40:37.369112Z",
     "shell.execute_reply": "2022-11-14T03:40:37.368299Z"
    },
    "papermill": {
     "duration": 0.017644,
     "end_time": "2022-11-14T03:40:37.371174",
     "exception": false,
     "start_time": "2022-11-14T03:40:37.353530",
     "status": "completed"
    },
    "tags": []
   },
   "outputs": [],
   "source": [
    "# var = 'TotalBsmtSF'\n",
    "# sns.distplot(train_data[var], fit=norm);\n",
    "# fig = plt.figure()\n",
    "# res = stats.probplot(train_data[var], plot=plt)"
   ]
  },
  {
   "cell_type": "code",
   "execution_count": 29,
   "id": "6ac6971b",
   "metadata": {
    "execution": {
     "iopub.execute_input": "2022-11-14T03:40:37.393960Z",
     "iopub.status.busy": "2022-11-14T03:40:37.393370Z",
     "iopub.status.idle": "2022-11-14T03:40:37.396973Z",
     "shell.execute_reply": "2022-11-14T03:40:37.396235Z"
    },
    "papermill": {
     "duration": 0.017735,
     "end_time": "2022-11-14T03:40:37.399157",
     "exception": false,
     "start_time": "2022-11-14T03:40:37.381422",
     "status": "completed"
    },
    "tags": []
   },
   "outputs": [],
   "source": [
    "# var = 'YearBuilt'\n",
    "# sns.distplot(train_data[var], fit=norm);\n",
    "# fig = plt.figure()\n",
    "# res = stats.probplot(train_data[var], plot=plt)"
   ]
  },
  {
   "cell_type": "code",
   "execution_count": 30,
   "id": "e8894bf8",
   "metadata": {
    "execution": {
     "iopub.execute_input": "2022-11-14T03:40:37.422648Z",
     "iopub.status.busy": "2022-11-14T03:40:37.421748Z",
     "iopub.status.idle": "2022-11-14T03:40:37.425857Z",
     "shell.execute_reply": "2022-11-14T03:40:37.425065Z"
    },
    "papermill": {
     "duration": 0.018868,
     "end_time": "2022-11-14T03:40:37.428353",
     "exception": false,
     "start_time": "2022-11-14T03:40:37.409485",
     "status": "completed"
    },
    "tags": []
   },
   "outputs": [],
   "source": [
    "# var = 'YearRemodAdd'\n",
    "# sns.distplot(train_data[var], fit=norm);\n",
    "# fig = plt.figure()\n",
    "# res = stats.probplot(train_data[var], plot=plt)"
   ]
  },
  {
   "cell_type": "code",
   "execution_count": 31,
   "id": "d3d17978",
   "metadata": {
    "execution": {
     "iopub.execute_input": "2022-11-14T03:40:37.450902Z",
     "iopub.status.busy": "2022-11-14T03:40:37.450280Z",
     "iopub.status.idle": "2022-11-14T03:40:37.464590Z",
     "shell.execute_reply": "2022-11-14T03:40:37.463693Z"
    },
    "papermill": {
     "duration": 0.028436,
     "end_time": "2022-11-14T03:40:37.467055",
     "exception": false,
     "start_time": "2022-11-14T03:40:37.438619",
     "status": "completed"
    },
    "tags": []
   },
   "outputs": [],
   "source": [
    "X_qualitative = pd.get_dummies(train_data[qualitative])\n",
    "X = pd.concat([train_data[quantitative], X_qualitative], axis = 1)\n",
    "# X = train_data[features]\n",
    "y = train_data['SalePrice']"
   ]
  },
  {
   "cell_type": "code",
   "execution_count": 32,
   "id": "b878a025",
   "metadata": {
    "execution": {
     "iopub.execute_input": "2022-11-14T03:40:37.489653Z",
     "iopub.status.busy": "2022-11-14T03:40:37.488981Z",
     "iopub.status.idle": "2022-11-14T03:40:37.494838Z",
     "shell.execute_reply": "2022-11-14T03:40:37.493684Z"
    },
    "papermill": {
     "duration": 0.019986,
     "end_time": "2022-11-14T03:40:37.497346",
     "exception": false,
     "start_time": "2022-11-14T03:40:37.477360",
     "status": "completed"
    },
    "tags": []
   },
   "outputs": [],
   "source": [
    "# from sklearn.ensemble import GradientBoostingRegressor, VotingRegressor, BaggingRegressor, RandomForestRegressor\n",
    "# # from sklearn.tree import DecisionTreeRegressor\n",
    "# # from sklearn.neighbors import KNeighborsRegressor\n",
    "# # from sklearn.metrics import r2_score, mean_squared_error as MSE\n",
    "# from sklearn.model_selection import train_test_split, cross_val_score, KFold, GridSearchCV\n",
    "# # from sklearn.linear_model import Lasso, Ridge, LinearRegression\n",
    "# from sklearn.preprocessing import StandardScaler\n",
    "# # import xgboost as xgb\n",
    "# x_train, x_test, y_train, y_test = train_test_split(X, y, test_size=0.2, random_state=2)\n",
    "\n",
    "# # params ={'DTR': {'max_depth': np.arange(1, 10,1), 'min_samples_leaf': np.arange(0.01, 0.2, 0.05)},\n",
    "# #          'GBR': {'max_depth': np.arange(2, 3,1), 'n_estimators': np.arange(400, 500, 100)}}\n",
    "# # kf = KFold(n_splits=10, shuffle=True, random_state=10)\n",
    "# scale = StandardScaler()\n",
    "\n",
    "\n",
    "# # model = GradientBoostingRegressor(random_state=42)\n",
    "# x_train_scaled = scale.fit_transform(x_train)\n",
    "# x_test_scaled = scale.transform(x_test)\n",
    "# # gridsearch = GridSearchCV(model, param_grid=params['GBR'], cv=kf, n_jobs=-1)\n",
    "\n",
    "# # gridsearch.fit(x_train_scaled, y_train)\n",
    "# # y_pred = gridsearch.predict(x_test_scaled)\n",
    "# # report = r2_score(y_test, y_pred)\n",
    "# # rmse = MSE(y_test, y_pred)**0.5"
   ]
  },
  {
   "cell_type": "code",
   "execution_count": 33,
   "id": "1a0939fd",
   "metadata": {
    "execution": {
     "iopub.execute_input": "2022-11-14T03:40:37.519806Z",
     "iopub.status.busy": "2022-11-14T03:40:37.519419Z",
     "iopub.status.idle": "2022-11-14T03:40:52.023575Z",
     "shell.execute_reply": "2022-11-14T03:40:52.022005Z"
    },
    "papermill": {
     "duration": 14.521023,
     "end_time": "2022-11-14T03:40:52.028598",
     "exception": false,
     "start_time": "2022-11-14T03:40:37.507575",
     "status": "completed"
    },
    "tags": []
   },
   "outputs": [
    {
     "name": "stdout",
     "output_type": "stream",
     "text": [
      "28423.18679111779\n",
      "27132.218046831822\n",
      "33030.77593830255\n"
     ]
    },
    {
     "data": {
      "text/plain": [
       "33306.26184650235"
      ]
     },
     "execution_count": 33,
     "metadata": {},
     "output_type": "execute_result"
    }
   ],
   "source": [
    "from sklearn.ensemble import GradientBoostingRegressor\n",
    "from sklearn.linear_model import Ridge, RidgeCV, ElasticNet, LassoCV, LassoLarsCV\n",
    "from sklearn.model_selection import cross_val_score\n",
    "from sklearn.model_selection import train_test_split, cross_val_score, KFold, GridSearchCV\n",
    "from sklearn.preprocessing import StandardScaler\n",
    "from sklearn.metrics import r2_score, mean_squared_error as MSE\n",
    "import xgboost as xgb\n",
    "\n",
    "def rmse_cv(model):\n",
    "    rmse= np.sqrt(-cross_val_score(model, x_train_scaled, y, scoring=\"neg_mean_squared_error\", cv = 5))\n",
    "    return(rmse)\n",
    "\n",
    "\n",
    "# x_train, x_test, y_train, y_test = train_test_split(X, y, test_size=0.2, random_state=2)\n",
    "scale = StandardScaler()\n",
    "x_train_scaled = scale.fit_transform(X)\n",
    "# x_test_scaled = scale.transform(x_test)\n",
    "\n",
    "params ={'max_depth': np.arange(2, 10,1), 'n_estimators': np.arange(100, 500, 100)}\n",
    "\n",
    "\n",
    "model_xgb = xgb.XGBRegressor(max_depth=2, n_estimators=200, random_state=42).fit(x_train_scaled, y)\n",
    "# kf = KFold(n_splits=10, shuffle=True, random_state=10)\n",
    "# gridsearch = GridSearchCV(model_xgb, param_grid=params, cv=kf, n_jobs=-1)\n",
    "# gridsearch.fit(x_train_scaled, y_train)\n",
    "# y_pred = gridsearch.predict(x_test_scaled)\n",
    "# report = r2_score(y_test, y_pred)\n",
    "# rmse = MSE(y_test, y_pred)**0.5\n",
    "cv_xgb = rmse_cv(model_xgb).mean()\n",
    "print(cv_xgb)\n",
    "\n",
    "model_gbr = GradientBoostingRegressor(max_depth=2, n_estimators=400, random_state=42).fit(x_train_scaled, y)\n",
    "cv_gbr = rmse_cv(model_gbr).mean()\n",
    "print(cv_gbr)\n",
    "\n",
    "model_ridge = RidgeCV()\n",
    "alphas = [0.05, 0.1, 0.3, 1, 3, 5, 10, 15, 30, 50, 75]\n",
    "cv_ridge = [rmse_cv(Ridge(alpha = alpha)).mean() \n",
    "            for alpha in alphas]\n",
    "print(min(cv_ridge))\n",
    "\n",
    "model_lasso = LassoCV(alphas = [1, 0.1, 0.001, 0.0005]).fit(x_train_scaled, y)\n",
    "rmse_cv(model_lasso).mean()"
   ]
  },
  {
   "cell_type": "code",
   "execution_count": 34,
   "id": "97ce5fd7",
   "metadata": {
    "execution": {
     "iopub.execute_input": "2022-11-14T03:40:52.130674Z",
     "iopub.status.busy": "2022-11-14T03:40:52.130274Z",
     "iopub.status.idle": "2022-11-14T03:40:52.135266Z",
     "shell.execute_reply": "2022-11-14T03:40:52.134000Z"
    },
    "papermill": {
     "duration": 0.06019,
     "end_time": "2022-11-14T03:40:52.137642",
     "exception": false,
     "start_time": "2022-11-14T03:40:52.077452",
     "status": "completed"
    },
    "tags": []
   },
   "outputs": [],
   "source": [
    "# # Create a pd.Series of features importances\n",
    "# importances_rf = pd.Series(gridsearch.best_estimator_.feature_importances_, index = X.columns)\n",
    "# # Sort importances_rf\n",
    "# sorted_importances_rf = importances_rf.sort_values()\n",
    "# # Make a horizontal bar plot\n",
    "# sorted_importances_rf.plot(kind='barh', color='lightgreen'); plt.show()"
   ]
  },
  {
   "cell_type": "code",
   "execution_count": 35,
   "id": "ac5d07cd",
   "metadata": {
    "execution": {
     "iopub.execute_input": "2022-11-14T03:40:52.161152Z",
     "iopub.status.busy": "2022-11-14T03:40:52.160353Z",
     "iopub.status.idle": "2022-11-14T03:40:52.238990Z",
     "shell.execute_reply": "2022-11-14T03:40:52.237076Z"
    },
    "papermill": {
     "duration": 0.094027,
     "end_time": "2022-11-14T03:40:52.242307",
     "exception": false,
     "start_time": "2022-11-14T03:40:52.148280",
     "status": "completed"
    },
    "tags": []
   },
   "outputs": [
    {
     "name": "stdout",
     "output_type": "stream",
     "text": [
      "KitchenQual     1\n",
      "OverallQual     0\n",
      "GarageCars      0\n",
      "GarageArea      0\n",
      "FullBath        0\n",
      "YearBuilt       0\n",
      "TotRmsAbvGrd    0\n",
      "GrLivArea       0\n",
      "TotalBsmtSF     0\n",
      "Fireplaces      0\n",
      "MSSubClass      0\n",
      "YearRemodAdd    0\n",
      "Neighborhood    0\n",
      "ExterQual       0\n",
      "Foundation      0\n",
      "HeatingQC       0\n",
      "dtype: int64\n",
      "Your submission was successfully saved!\n"
     ]
    }
   ],
   "source": [
    "test_data = pd.read_csv('/kaggle/input/house-prices-advanced-regression-techniques/test.csv')\n",
    "# print(len(test_data))\n",
    "# print(len(test_data_dropna))\n",
    "# test_data = missing(test_data)\n",
    "x_test = test_data[features].fillna(test_data[features].median())\n",
    "\n",
    "# missing_data = test_data.isnull().sum()\n",
    "\n",
    "# test_data = test_data.drop((missing_data[missing_data > 1]).index,1)\n",
    "# test_data = test_data.drop(test_data.loc[test_data['Electrical'].isnull()].index)\n",
    "print(x_test[features].isnull().sum().sort_values(ascending=False).head(20))\n",
    "# test_data = test_data[features].fillna(0)\n",
    "X_qualitative2 = pd.get_dummies(x_test[qualitative])\n",
    "x_test = pd.concat([x_test[quantitative], X_qualitative2], axis = 1)\n",
    "\n",
    "x_test_scaled = scale.transform(x_test)\n",
    "\n",
    "predictions = model_gbr.predict(x_test_scaled)\n",
    "\n",
    "output = pd.DataFrame({'Id': test_data.Id, 'SalePrice': predictions})\n",
    "output.to_csv('submission.csv', index=False)\n",
    "print(\"Your submission was successfully saved!\")"
   ]
  }
 ],
 "metadata": {
  "kernelspec": {
   "display_name": "Python 3",
   "language": "python",
   "name": "python3"
  },
  "language_info": {
   "codemirror_mode": {
    "name": "ipython",
    "version": 3
   },
   "file_extension": ".py",
   "mimetype": "text/x-python",
   "name": "python",
   "nbconvert_exporter": "python",
   "pygments_lexer": "ipython3",
   "version": "3.7.12"
  },
  "papermill": {
   "default_parameters": {},
   "duration": 33.507423,
   "end_time": "2022-11-14T03:40:53.076725",
   "environment_variables": {},
   "exception": null,
   "input_path": "__notebook__.ipynb",
   "output_path": "__notebook__.ipynb",
   "parameters": {},
   "start_time": "2022-11-14T03:40:19.569302",
   "version": "2.3.4"
  }
 },
 "nbformat": 4,
 "nbformat_minor": 5
}
