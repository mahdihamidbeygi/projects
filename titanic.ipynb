{
 "cells": [
  {
   "cell_type": "code",
   "execution_count": 1,
   "id": "3de72e5a",
   "metadata": {
    "_cell_guid": "b1076dfc-b9ad-4769-8c92-a6c4dae69d19",
    "_uuid": "8f2839f25d086af736a60e9eeb907d3b93b6e0e5",
    "execution": {
     "iopub.execute_input": "2022-11-14T00:04:19.400383Z",
     "iopub.status.busy": "2022-11-14T00:04:19.399122Z",
     "iopub.status.idle": "2022-11-14T00:04:19.415967Z",
     "shell.execute_reply": "2022-11-14T00:04:19.414638Z"
    },
    "papermill": {
     "duration": 0.026045,
     "end_time": "2022-11-14T00:04:19.418930",
     "exception": false,
     "start_time": "2022-11-14T00:04:19.392885",
     "status": "completed"
    },
    "tags": []
   },
   "outputs": [
    {
     "name": "stdout",
     "output_type": "stream",
     "text": [
      "/kaggle/input/titanic/train.csv\n",
      "/kaggle/input/titanic/test.csv\n",
      "/kaggle/input/titanic/gender_submission.csv\n"
     ]
    }
   ],
   "source": [
    "# This Python 3 environment comes with many helpful analytics libraries installed\n",
    "# It is defined by the kaggle/python Docker image: https://github.com/kaggle/docker-python\n",
    "# For example, here's several helpful packages to load\n",
    "\n",
    "import numpy as np # linear algebra\n",
    "import pandas as pd # data processing, CSV file I/O (e.g. pd.read_csv)\n",
    "\n",
    "# Input data files are available in the read-only \"../input/\" directory\n",
    "# For example, running this (by clicking run or pressing Shift+Enter) will list all files under the input directory\n",
    "\n",
    "import os\n",
    "for dirname, _, filenames in os.walk('/kaggle/input'):\n",
    "    for filename in filenames:\n",
    "        print(os.path.join(dirname, filename))\n",
    "\n",
    "# You can write up to 20GB to the current directory (/kaggle/working/) that gets preserved as output when you create a version using \"Save & Run All\" \n",
    "# You can also write temporary files to /kaggle/temp/, but they won't be saved outside of the current session"
   ]
  },
  {
   "cell_type": "code",
   "execution_count": 2,
   "id": "e86e5604",
   "metadata": {
    "execution": {
     "iopub.execute_input": "2022-11-14T00:04:19.428361Z",
     "iopub.status.busy": "2022-11-14T00:04:19.427549Z",
     "iopub.status.idle": "2022-11-14T00:04:19.473258Z",
     "shell.execute_reply": "2022-11-14T00:04:19.471693Z"
    },
    "papermill": {
     "duration": 0.054182,
     "end_time": "2022-11-14T00:04:19.476605",
     "exception": false,
     "start_time": "2022-11-14T00:04:19.422423",
     "status": "completed"
    },
    "tags": []
   },
   "outputs": [
    {
     "name": "stdout",
     "output_type": "stream",
     "text": [
      "   PassengerId  Survived  Pclass  \\\n",
      "0            1         0       3   \n",
      "1            2         1       1   \n",
      "2            3         1       3   \n",
      "3            4         1       1   \n",
      "4            5         0       3   \n",
      "\n",
      "                                                Name     Sex   Age  SibSp  \\\n",
      "0                            Braund, Mr. Owen Harris    male  22.0      1   \n",
      "1  Cumings, Mrs. John Bradley (Florence Briggs Th...  female  38.0      1   \n",
      "2                             Heikkinen, Miss. Laina  female  26.0      0   \n",
      "3       Futrelle, Mrs. Jacques Heath (Lily May Peel)  female  35.0      1   \n",
      "4                           Allen, Mr. William Henry    male  35.0      0   \n",
      "\n",
      "   Parch            Ticket     Fare Cabin Embarked  \n",
      "0      0         A/5 21171   7.2500   NaN        S  \n",
      "1      0          PC 17599  71.2833   C85        C  \n",
      "2      0  STON/O2. 3101282   7.9250   NaN        S  \n",
      "3      0            113803  53.1000  C123        S  \n",
      "4      0            373450   8.0500   NaN        S  \n"
     ]
    }
   ],
   "source": [
    "train_data = pd.read_csv('/kaggle/input/titanic/train.csv')\n",
    "print(train_data.head())"
   ]
  },
  {
   "cell_type": "code",
   "execution_count": 3,
   "id": "21f80eaa",
   "metadata": {
    "execution": {
     "iopub.execute_input": "2022-11-14T00:04:19.486181Z",
     "iopub.status.busy": "2022-11-14T00:04:19.485672Z",
     "iopub.status.idle": "2022-11-14T00:04:19.491053Z",
     "shell.execute_reply": "2022-11-14T00:04:19.489897Z"
    },
    "papermill": {
     "duration": 0.013107,
     "end_time": "2022-11-14T00:04:19.493573",
     "exception": false,
     "start_time": "2022-11-14T00:04:19.480466",
     "status": "completed"
    },
    "tags": []
   },
   "outputs": [],
   "source": [
    "# train_data.describe()"
   ]
  },
  {
   "cell_type": "code",
   "execution_count": 4,
   "id": "3ff7a829",
   "metadata": {
    "execution": {
     "iopub.execute_input": "2022-11-14T00:04:19.502629Z",
     "iopub.status.busy": "2022-11-14T00:04:19.501916Z",
     "iopub.status.idle": "2022-11-14T00:04:19.533533Z",
     "shell.execute_reply": "2022-11-14T00:04:19.530858Z"
    },
    "papermill": {
     "duration": 0.039876,
     "end_time": "2022-11-14T00:04:19.536808",
     "exception": false,
     "start_time": "2022-11-14T00:04:19.496932",
     "status": "completed"
    },
    "tags": []
   },
   "outputs": [
    {
     "name": "stdout",
     "output_type": "stream",
     "text": [
      "891\n",
      "Pclass      0\n",
      "Sex         0\n",
      "SibSp       0\n",
      "Parch       0\n",
      "Fare        0\n",
      "Embarked    2\n",
      "dtype: int64\n",
      "Pclass      0\n",
      "Sex         0\n",
      "SibSp       0\n",
      "Parch       0\n",
      "Fare        0\n",
      "Embarked    0\n",
      "dtype: int64\n",
      "889\n"
     ]
    }
   ],
   "source": [
    "features = [\"Pclass\", \"Sex\", \"SibSp\", \"Parch\", 'Fare', 'Embarked']\n",
    "print(len(train_data))\n",
    "print(train_data[features].isna().sum().sort_values())\n",
    "train_data = train_data.dropna(subset=features)\n",
    "print(train_data[features].isna().sum().sort_values())\n",
    "print(len(train_data))"
   ]
  },
  {
   "cell_type": "code",
   "execution_count": 5,
   "id": "c4a996e2",
   "metadata": {
    "execution": {
     "iopub.execute_input": "2022-11-14T00:04:19.546680Z",
     "iopub.status.busy": "2022-11-14T00:04:19.546219Z",
     "iopub.status.idle": "2022-11-14T00:04:22.084257Z",
     "shell.execute_reply": "2022-11-14T00:04:22.082359Z"
    },
    "papermill": {
     "duration": 2.54702,
     "end_time": "2022-11-14T00:04:22.087586",
     "exception": false,
     "start_time": "2022-11-14T00:04:19.540566",
     "status": "completed"
    },
    "tags": []
   },
   "outputs": [
    {
     "name": "stdout",
     "output_type": "stream",
     "text": [
      "\n",
      "0.8539325842696629\n"
     ]
    }
   ],
   "source": [
    "from sklearn.model_selection import train_test_split\n",
    "from sklearn.ensemble import RandomForestClassifier, GradientBoostingClassifier\n",
    "from sklearn.tree import DecisionTreeClassifier\n",
    "from sklearn.metrics import accuracy_score, confusion_matrix, classification_report\n",
    "from sklearn.model_selection import cross_val_score, KFold, GridSearchCV\n",
    "from sklearn.preprocessing import StandardScaler\n",
    "\n",
    "models = {\"RFC\": RandomForestClassifier() } #\"GBC\": GradientBoostingClassifier(), \"DTC\": DecisionTreeClassifier()}\n",
    "\n",
    "# kf = KFold(n_splits=10, shuffle=True, random_state=42)\n",
    "# param_grid = {\"n_estimators\": np.arange(50, 500, 100),\n",
    "#               \"max_depth\": np.arange(2, 10, 1)}\n",
    "\n",
    "y = train_data[\"Survived\"]\n",
    "X = pd.get_dummies(train_data[features])\n",
    "x_train, x_test, y_train, y_test = train_test_split(X, y, test_size = .2, random_state = 18)\n",
    "scaler = StandardScaler()\n",
    "x_train_scaled = scaler.fit_transform(x_train)\n",
    "print()\n",
    "model = RandomForestClassifier(n_estimators=350, max_depth=8, random_state=1)\n",
    "# cv_results = cross_val_score(model, x_train, y_train, cv=kf)\n",
    "# gridsearch = GridSearchCV(model, param_grid, cv=kf)\n",
    "model.fit(x_train, y_train)\n",
    "predictions = model.predict(x_test)\n",
    "# matrix = confusion_matrix(y_test, predictions)\n",
    "score = accuracy_score(y_test, predictions)\n",
    "print(score)\n",
    "# report = classification_report(y_test, predictions)\n"
   ]
  },
  {
   "cell_type": "code",
   "execution_count": 6,
   "id": "4df8ef33",
   "metadata": {
    "execution": {
     "iopub.execute_input": "2022-11-14T00:04:22.096362Z",
     "iopub.status.busy": "2022-11-14T00:04:22.095904Z",
     "iopub.status.idle": "2022-11-14T00:04:22.103481Z",
     "shell.execute_reply": "2022-11-14T00:04:22.102366Z"
    },
    "papermill": {
     "duration": 0.015101,
     "end_time": "2022-11-14T00:04:22.106174",
     "exception": false,
     "start_time": "2022-11-14T00:04:22.091073",
     "status": "completed"
    },
    "tags": []
   },
   "outputs": [
    {
     "name": "stdout",
     "output_type": "stream",
     "text": [
      "[[ 0.8100025  -0.46716422 -0.47178032 ... -0.46185558 -0.31451245\n",
      "   0.60172167]\n",
      " [ 0.8100025  -0.46716422 -0.47178032 ... -0.46185558 -0.31451245\n",
      "   0.60172167]\n",
      " [ 0.8100025  -0.46716422 -0.47178032 ... -0.46185558 -0.31451245\n",
      "   0.60172167]\n",
      " ...\n",
      " [ 0.8100025  -0.46716422 -0.47178032 ... -0.46185558 -0.31451245\n",
      "   0.60172167]\n",
      " [ 0.8100025  -0.46716422 -0.47178032 ... -0.46185558 -0.31451245\n",
      "   0.60172167]\n",
      " [-1.6148892  -0.46716422  0.75243795 ...  2.16517898 -0.31451245\n",
      "  -1.66189794]]\n"
     ]
    }
   ],
   "source": [
    "print(x_train_scaled)"
   ]
  },
  {
   "cell_type": "code",
   "execution_count": 7,
   "id": "5f1bee9c",
   "metadata": {
    "execution": {
     "iopub.execute_input": "2022-11-14T00:04:22.115431Z",
     "iopub.status.busy": "2022-11-14T00:04:22.114981Z",
     "iopub.status.idle": "2022-11-14T00:04:22.149570Z",
     "shell.execute_reply": "2022-11-14T00:04:22.147252Z"
    },
    "papermill": {
     "duration": 0.043457,
     "end_time": "2022-11-14T00:04:22.153315",
     "exception": false,
     "start_time": "2022-11-14T00:04:22.109858",
     "status": "completed"
    },
    "tags": []
   },
   "outputs": [
    {
     "name": "stdout",
     "output_type": "stream",
     "text": [
      "   PassengerId  Pclass                                          Name     Sex  \\\n",
      "0          892       3                              Kelly, Mr. James    male   \n",
      "1          893       3              Wilkes, Mrs. James (Ellen Needs)  female   \n",
      "2          894       2                     Myles, Mr. Thomas Francis    male   \n",
      "3          895       3                              Wirz, Mr. Albert    male   \n",
      "4          896       3  Hirvonen, Mrs. Alexander (Helga E Lindqvist)  female   \n",
      "\n",
      "    Age  SibSp  Parch   Ticket     Fare Cabin Embarked  \n",
      "0  34.5      0      0   330911   7.8292   NaN        Q  \n",
      "1  47.0      1      0   363272   7.0000   NaN        S  \n",
      "2  62.0      0      0   240276   9.6875   NaN        Q  \n",
      "3  27.0      0      0   315154   8.6625   NaN        S  \n",
      "4  22.0      1      1  3101298  12.2875   NaN        S  \n",
      "418\n",
      "Pclass      0\n",
      "Sex         0\n",
      "SibSp       0\n",
      "Parch       0\n",
      "Embarked    0\n",
      "Fare        1\n",
      "dtype: int64\n",
      "0        7.8292\n",
      "1        7.0000\n",
      "2        9.6875\n",
      "3        8.6625\n",
      "4       12.2875\n",
      "         ...   \n",
      "413      8.0500\n",
      "414    108.9000\n",
      "415      7.2500\n",
      "416      8.0500\n",
      "417     22.3583\n",
      "Name: Fare, Length: 418, dtype: float64\n",
      "0        7.8292\n",
      "1        7.0000\n",
      "2        9.6875\n",
      "3        8.6625\n",
      "4       12.2875\n",
      "         ...   \n",
      "413      8.0500\n",
      "414    108.9000\n",
      "415      7.2500\n",
      "416      8.0500\n",
      "417     22.3583\n",
      "Name: Fare, Length: 418, dtype: float64\n",
      "Pclass      0\n",
      "Sex         0\n",
      "SibSp       0\n",
      "Parch       0\n",
      "Fare        0\n",
      "Embarked    0\n",
      "dtype: int64\n",
      "418\n"
     ]
    }
   ],
   "source": [
    "test_data = pd.read_csv('/kaggle/input/titanic/test.csv')\n",
    "print(test_data.head())\n",
    "print(len(test_data))\n",
    "print(test_data[features].isna().sum().sort_values())\n",
    "print(test_data['Fare'])\n",
    "test_data['Fare'] = np.where(test_data['Fare'].isna(), test_data['Fare'].mean(), test_data['Fare'])\n",
    "print(test_data['Fare'])\n",
    "print(test_data[features].isna().sum().sort_values())\n",
    "print(len(test_data))"
   ]
  },
  {
   "cell_type": "code",
   "execution_count": 8,
   "id": "e842e629",
   "metadata": {
    "execution": {
     "iopub.execute_input": "2022-11-14T00:04:22.162859Z",
     "iopub.status.busy": "2022-11-14T00:04:22.162453Z",
     "iopub.status.idle": "2022-11-14T00:04:22.248539Z",
     "shell.execute_reply": "2022-11-14T00:04:22.246642Z"
    },
    "papermill": {
     "duration": 0.094033,
     "end_time": "2022-11-14T00:04:22.251389",
     "exception": false,
     "start_time": "2022-11-14T00:04:22.157356",
     "status": "completed"
    },
    "tags": []
   },
   "outputs": [
    {
     "name": "stdout",
     "output_type": "stream",
     "text": [
      "Your submission was successfully saved!\n"
     ]
    }
   ],
   "source": [
    "# score = accuracy_score(y_test, predictions)\n",
    "# print(score)\n",
    "# matrix = confusion_matrix(y_test, predictions)\n",
    "# print(matrix)\n",
    "# report = classification_report(y_test, predictions)\n",
    "# print(report)\n",
    "\n",
    "x_test = pd.get_dummies(test_data[features])\n",
    "predictions = model.predict(x_test)\n",
    "\n",
    "output = pd.DataFrame({'PassengerId': test_data.PassengerId, 'Survived': predictions})\n",
    "output.to_csv('submission2.csv', index=False)\n",
    "print(\"Your submission was successfully saved!\")"
   ]
  }
 ],
 "metadata": {
  "kernelspec": {
   "display_name": "Python 3",
   "language": "python",
   "name": "python3"
  },
  "language_info": {
   "codemirror_mode": {
    "name": "ipython",
    "version": 3
   },
   "file_extension": ".py",
   "mimetype": "text/x-python",
   "name": "python",
   "nbconvert_exporter": "python",
   "pygments_lexer": "ipython3",
   "version": "3.7.12"
  },
  "papermill": {
   "default_parameters": {},
   "duration": 15.225463,
   "end_time": "2022-11-14T00:04:23.079592",
   "environment_variables": {},
   "exception": null,
   "input_path": "__notebook__.ipynb",
   "output_path": "__notebook__.ipynb",
   "parameters": {},
   "start_time": "2022-11-14T00:04:07.854129",
   "version": "2.3.4"
  }
 },
 "nbformat": 4,
 "nbformat_minor": 5
}
